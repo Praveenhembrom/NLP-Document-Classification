{
 "cells": [
  {
   "cell_type": "markdown",
   "id": "c9abd468-4ec7-4415-90d4-f71cde619b8b",
   "metadata": {},
   "source": [
    "******Getting and organising the Data******"
   ]
  },
  {
   "cell_type": "code",
   "execution_count": 1,
   "id": "4340bf9f-a7f3-4fe2-8286-2e93e9a388c3",
   "metadata": {},
   "outputs": [
    {
     "name": "stdout",
     "output_type": "stream",
     "text": [
      "Libraries imported successfully.\n"
     ]
    }
   ],
   "source": [
    "\n",
    "import pandas as pd\n",
    "from sklearn.datasets import fetch_20newsgroups\n",
    "\n",
    "print(\"Libraries imported successfully.\")"
   ]
  },
  {
   "cell_type": "markdown",
   "id": "c1757641-1738-47ab-81c5-8afc535839d3",
   "metadata": {},
   "source": [
    "******Fetch the Large Dataset******"
   ]
  },
  {
   "cell_type": "code",
   "execution_count": 2,
   "id": "79308c3d-1c9f-46ca-974d-ce5acfa5c00b",
   "metadata": {},
   "outputs": [
    {
     "name": "stdout",
     "output_type": "stream",
     "text": [
      "Fetching the large '20 Newsgroups' dataset...\n",
      " Dataset fetched and loaded into memory.\n"
     ]
    }
   ],
   "source": [
    "\n",
    "print(\"Fetching the large '20 Newsgroups' dataset...\")\n",
    "\n",
    "newsgroups_data = fetch_20newsgroups(\n",
    "    subset='all', \n",
    "    shuffle=True, \n",
    "    random_state=42,\n",
    "    remove=('headers', 'footers', 'quotes')\n",
    ")\n",
    "\n",
    "print(\" Dataset fetched and loaded into memory.\")"
   ]
  },
  {
   "cell_type": "markdown",
   "id": "9d9c7a20-c8ec-41b4-9bad-117d1ba8a0a3",
   "metadata": {},
   "source": [
    "******Organize and Verify the Data******"
   ]
  },
  {
   "cell_type": "code",
   "execution_count": 3,
   "id": "37c4e920-d83d-41dc-adc1-b1bb796088f5",
   "metadata": {},
   "outputs": [
    {
     "name": "stdout",
     "output_type": "stream",
     "text": [
      "Organizing the data into a structured table...\n",
      " Data organized.\n",
      "--------------------------------------------------\n",
      "Total documents: 18846 | Total categories: 20\n",
      "\n",
      "--- Top 5 Rows of the Dataset ---\n"
     ]
    },
    {
     "data": {
      "text/html": [
       "<div>\n",
       "<style scoped>\n",
       "    .dataframe tbody tr th:only-of-type {\n",
       "        vertical-align: middle;\n",
       "    }\n",
       "\n",
       "    .dataframe tbody tr th {\n",
       "        vertical-align: top;\n",
       "    }\n",
       "\n",
       "    .dataframe thead th {\n",
       "        text-align: right;\n",
       "    }\n",
       "</style>\n",
       "<table border=\"1\" class=\"dataframe\">\n",
       "  <thead>\n",
       "    <tr style=\"text-align: right;\">\n",
       "      <th></th>\n",
       "      <th>text</th>\n",
       "      <th>category_id</th>\n",
       "      <th>category_name</th>\n",
       "    </tr>\n",
       "  </thead>\n",
       "  <tbody>\n",
       "    <tr>\n",
       "      <th>0</th>\n",
       "      <td>\\n\\nI am sure some bashers of Pens fans are pr...</td>\n",
       "      <td>10</td>\n",
       "      <td>rec.sport.hockey</td>\n",
       "    </tr>\n",
       "    <tr>\n",
       "      <th>1</th>\n",
       "      <td>My brother is in the market for a high-perform...</td>\n",
       "      <td>3</td>\n",
       "      <td>comp.sys.ibm.pc.hardware</td>\n",
       "    </tr>\n",
       "    <tr>\n",
       "      <th>2</th>\n",
       "      <td>\\n\\n\\n\\n\\tFinally you said what you dream abou...</td>\n",
       "      <td>17</td>\n",
       "      <td>talk.politics.mideast</td>\n",
       "    </tr>\n",
       "    <tr>\n",
       "      <th>3</th>\n",
       "      <td>\\nThink!\\n\\nIt's the SCSI card doing the DMA t...</td>\n",
       "      <td>3</td>\n",
       "      <td>comp.sys.ibm.pc.hardware</td>\n",
       "    </tr>\n",
       "    <tr>\n",
       "      <th>4</th>\n",
       "      <td>1)    I have an old Jasmine drive which I cann...</td>\n",
       "      <td>4</td>\n",
       "      <td>comp.sys.mac.hardware</td>\n",
       "    </tr>\n",
       "  </tbody>\n",
       "</table>\n",
       "</div>"
      ],
      "text/plain": [
       "                                                text  category_id  \\\n",
       "0  \\n\\nI am sure some bashers of Pens fans are pr...           10   \n",
       "1  My brother is in the market for a high-perform...            3   \n",
       "2  \\n\\n\\n\\n\\tFinally you said what you dream abou...           17   \n",
       "3  \\nThink!\\n\\nIt's the SCSI card doing the DMA t...            3   \n",
       "4  1)    I have an old Jasmine drive which I cann...            4   \n",
       "\n",
       "              category_name  \n",
       "0          rec.sport.hockey  \n",
       "1  comp.sys.ibm.pc.hardware  \n",
       "2     talk.politics.mideast  \n",
       "3  comp.sys.ibm.pc.hardware  \n",
       "4     comp.sys.mac.hardware  "
      ]
     },
     "metadata": {},
     "output_type": "display_data"
    }
   ],
   "source": [
    "\n",
    "print(\"Organizing the data into a structured table...\")\n",
    "\n",
    "df = pd.DataFrame({\n",
    "    'text': newsgroups_data.data, \n",
    "    'category_id': newsgroups_data.target\n",
    "})\n",
    "df['category_name'] = df['category_id'].apply(lambda id: newsgroups_data.target_names[id])\n",
    "\n",
    "print(\" Data organized.\")\n",
    "print(\"-\" * 50)\n",
    "print(f\"Total documents: {len(df)} | Total categories: {len(df['category_name'].unique())}\")\n",
    "print(\"\\n--- Top 5 Rows of the Dataset ---\")\n",
    "display(df.head())"
   ]
  },
  {
   "cell_type": "code",
   "execution_count": 4,
   "id": "891a95fc-fd50-4f1b-8aba-124ba2df8558",
   "metadata": {},
   "outputs": [
    {
     "name": "stdout",
     "output_type": "stream",
     "text": [
      "Loading the 20 Newsgroups dataset and organizing into a structured table...\n",
      "✅ Dataset successfully loaded and organized.\n",
      "--------------------------------------------------\n",
      "Total documents: 18846 | Total categories: 20\n"
     ]
    },
    {
     "data": {
      "text/html": [
       "<div>\n",
       "<style scoped>\n",
       "    .dataframe tbody tr th:only-of-type {\n",
       "        vertical-align: middle;\n",
       "    }\n",
       "\n",
       "    .dataframe tbody tr th {\n",
       "        vertical-align: top;\n",
       "    }\n",
       "\n",
       "    .dataframe thead th {\n",
       "        text-align: right;\n",
       "    }\n",
       "</style>\n",
       "<table border=\"1\" class=\"dataframe\">\n",
       "  <thead>\n",
       "    <tr style=\"text-align: right;\">\n",
       "      <th></th>\n",
       "      <th>text</th>\n",
       "      <th>category_id</th>\n",
       "      <th>category_name</th>\n",
       "    </tr>\n",
       "  </thead>\n",
       "  <tbody>\n",
       "    <tr>\n",
       "      <th>0</th>\n",
       "      <td>From: Mamatha Devineni Ratnam &lt;mr47+@andrew.cm...</td>\n",
       "      <td>10</td>\n",
       "      <td>rec.sport.hockey</td>\n",
       "    </tr>\n",
       "    <tr>\n",
       "      <th>1</th>\n",
       "      <td>From: mblawson@midway.ecn.uoknor.edu (Matthew ...</td>\n",
       "      <td>3</td>\n",
       "      <td>comp.sys.ibm.pc.hardware</td>\n",
       "    </tr>\n",
       "    <tr>\n",
       "      <th>2</th>\n",
       "      <td>From: hilmi-er@dsv.su.se (Hilmi Eren)\\nSubject...</td>\n",
       "      <td>17</td>\n",
       "      <td>talk.politics.mideast</td>\n",
       "    </tr>\n",
       "    <tr>\n",
       "      <th>3</th>\n",
       "      <td>From: guyd@austin.ibm.com (Guy Dawson)\\nSubjec...</td>\n",
       "      <td>3</td>\n",
       "      <td>comp.sys.ibm.pc.hardware</td>\n",
       "    </tr>\n",
       "    <tr>\n",
       "      <th>4</th>\n",
       "      <td>From: Alexander Samuel McDiarmid &lt;am2o+@andrew...</td>\n",
       "      <td>4</td>\n",
       "      <td>comp.sys.mac.hardware</td>\n",
       "    </tr>\n",
       "  </tbody>\n",
       "</table>\n",
       "</div>"
      ],
      "text/plain": [
       "                                                text  category_id  \\\n",
       "0  From: Mamatha Devineni Ratnam <mr47+@andrew.cm...           10   \n",
       "1  From: mblawson@midway.ecn.uoknor.edu (Matthew ...            3   \n",
       "2  From: hilmi-er@dsv.su.se (Hilmi Eren)\\nSubject...           17   \n",
       "3  From: guyd@austin.ibm.com (Guy Dawson)\\nSubjec...            3   \n",
       "4  From: Alexander Samuel McDiarmid <am2o+@andrew...            4   \n",
       "\n",
       "              category_name  \n",
       "0          rec.sport.hockey  \n",
       "1  comp.sys.ibm.pc.hardware  \n",
       "2     talk.politics.mideast  \n",
       "3  comp.sys.ibm.pc.hardware  \n",
       "4     comp.sys.mac.hardware  "
      ]
     },
     "metadata": {},
     "output_type": "display_data"
    }
   ],
   "source": [
    "# Load and organize the 20 Newsgroups dataset into a structured table\n",
    "\n",
    "print(\"Loading the 20 Newsgroups dataset and organizing into a structured table...\")\n",
    "\n",
    "# Fetching the dataset (keeping headers, footers, and quotes this time)\n",
    "newsgroups_data = fetch_20newsgroups(\n",
    "    subset='all', \n",
    "    shuffle=True, \n",
    "    random_state=42\n",
    ")\n",
    "\n",
    "# Create a DataFrame with text and category info\n",
    "df = pd.DataFrame({\n",
    "    'text': newsgroups_data.data, \n",
    "    'category_id': newsgroups_data.target\n",
    "})\n",
    "df['category_name'] = df['category_id'].apply(lambda id: newsgroups_data.target_names[id])\n",
    "\n",
    "print(\"✅ Dataset successfully loaded and organized.\")\n",
    "print(\"-\" * 50)\n",
    "print(f\"Total documents: {len(df)} | Total categories: {len(df['category_name'].unique())}\")\n",
    "display(df.head())\n"
   ]
  },
  {
   "cell_type": "markdown",
   "id": "f776fcab-a7bc-4162-9759-276e629c090c",
   "metadata": {},
   "source": [
    "******Data Exploration and Preprocessing******"
   ]
  },
  {
   "cell_type": "code",
   "execution_count": 6,
   "id": "9e2a4523-4b61-4827-b1e5-eacd66f56a80",
   "metadata": {},
   "outputs": [
    {
     "name": "stdout",
     "output_type": "stream",
     "text": [
      "Analyzing the distribution of documents across categories...\n"
     ]
    },
    {
     "name": "stderr",
     "output_type": "stream",
     "text": [
      "C:\\Users\\prave\\AppData\\Local\\Temp\\ipykernel_5820\\3069945958.py:10: FutureWarning: \n",
      "\n",
      "Passing `palette` without assigning `hue` is deprecated and will be removed in v0.14.0. Assign the `y` variable to `hue` and set `legend=False` for the same effect.\n",
      "\n",
      "  sns.countplot(data=df, y='category_name', order=df['category_name'].value_counts().index, palette='viridis')\n"
     ]
    },
    {
     "data": {
      "image/png": "[encoded data removed]",
      "text/plain": [
       "<Figure size 1200x800 with 1 Axes>"
      ]
     },
     "metadata": {},
     "output_type": "display_data"
    }
   ],
   "source": [
    "import seaborn as sns\n",
    "import matplotlib.pyplot as plt\n",
    "\n",
    "print(\"Analyzing the distribution of documents across categories...\")\n",
    "\n",
    "# Set the figure size for better readability\n",
    "plt.figure(figsize=(12, 8))\n",
    "\n",
    "# Create a count plot to visualize the distribution\n",
    "sns.countplot(data=df, y='category_name', order=df['category_name'].value_counts().index, palette='viridis')\n",
    "\n",
    "plt.title('Number of Documents per Category', fontsize=16)\n",
    "plt.xlabel('Number of Documents', fontsize=12)\n",
    "plt.ylabel('Category', fontsize=12)\n",
    "plt.tight_layout()\n",
    "plt.show()"
   ]
  },
  {
   "cell_type": "code",
   "execution_count": 7,
   "id": "76a75add-81ff-4879-bf84-24758d4f45d0",
   "metadata": {},
   "outputs": [
    {
     "name": "stdout",
     "output_type": "stream",
     "text": [
      "Downloading NLTK resources (stopwords and wordnet)...\n",
      " Downloads complete.\n"
     ]
    },
    {
     "name": "stderr",
     "output_type": "stream",
     "text": [
      "[nltk_data] Downloading package stopwords to\n",
      "[nltk_data]     C:\\Users\\prave\\AppData\\Roaming\\nltk_data...\n",
      "[nltk_data]   Package stopwords is already up-to-date!\n",
      "[nltk_data] Downloading package wordnet to\n",
      "[nltk_data]     C:\\Users\\prave\\AppData\\Roaming\\nltk_data...\n",
      "[nltk_data]   Package wordnet is already up-to-date!\n"
     ]
    }
   ],
   "source": [
    "import nltk\n",
    "\n",
    "print(\"Downloading NLTK resources (stopwords and wordnet)...\")\n",
    "nltk.download('stopwords')\n",
    "nltk.download('wordnet')\n",
    "print(\" Downloads complete.\")"
   ]
  },
  {
   "cell_type": "code",
   "execution_count": 8,
   "id": "fc837387-666c-4b04-95b4-84e262a64549",
   "metadata": {},
   "outputs": [
    {
     "name": "stdout",
     "output_type": "stream",
     "text": [
      "Applying preprocessing to all documents... (This may take a moment)\n",
      "✅ Preprocessing complete.\n",
      "\n",
      "--- Comparing original vs. cleaned text ---\n"
     ]
    },
    {
     "data": {
      "text/html": [
       "<div>\n",
       "<style scoped>\n",
       "    .dataframe tbody tr th:only-of-type {\n",
       "        vertical-align: middle;\n",
       "    }\n",
       "\n",
       "    .dataframe tbody tr th {\n",
       "        vertical-align: top;\n",
       "    }\n",
       "\n",
       "    .dataframe thead th {\n",
       "        text-align: right;\n",
       "    }\n",
       "</style>\n",
       "<table border=\"1\" class=\"dataframe\">\n",
       "  <thead>\n",
       "    <tr style=\"text-align: right;\">\n",
       "      <th></th>\n",
       "      <th>text</th>\n",
       "      <th>clean_text</th>\n",
       "    </tr>\n",
       "  </thead>\n",
       "  <tbody>\n",
       "    <tr>\n",
       "      <th>0</th>\n",
       "      <td>From: Mamatha Devineni Ratnam &lt;mr47+@andrew.cmu.edu&gt;\\nSubject: Pens fans reactions\\nOrganization: Post Office, Carnegie Mellon, Pittsburgh, PA\\nLines: 12\\nNNTP-Posting-Host: po4.andrew.cmu.edu\\n\\n\\n\\nI am sure some bashers of Pens fans are pretty confused about the lack\\nof any kind of posts about the recent Pens massacre of the Devils. Actually,\\nI am  bit puzzled too and a bit relieved. Howe...</td>\n",
       "      <td>mamatha devineni ratnam mrandrewcmuedu subject pen fan reaction organization post office carnegie mellon pittsburgh pa line nntppostinghost poandrewcmuedu sure bashers pen fan pretty confused lack kind post recent pen massacre devil actually bit puzzled bit relieved however going put end nonpittsburghers relief bit praise pen man killing devil worse thought jagr showed much better regular seas...</td>\n",
       "    </tr>\n",
       "    <tr>\n",
       "      <th>1</th>\n",
       "      <td>From: mblawson@midway.ecn.uoknor.edu (Matthew B Lawson)\\nSubject: Which high-performance VLB video card?\\nSummary: Seek recommendations for VLB video card\\nNntp-Posting-Host: midway.ecn.uoknor.edu\\nOrganization: Engineering Computer Network, University of Oklahoma, Norman, OK, USA\\nKeywords: orchid, stealth, vlb\\nLines: 21\\n\\n  My brother is in the market for a high-performance video card that...</td>\n",
       "      <td>mblawsonmidwayecnuoknoredu matthew b lawson subject highperformance vlb video card summary seek recommendation vlb video card nntppostinghost midwayecnuoknoredu organization engineering computer network university oklahoma norman ok usa keywords orchid stealth vlb line brother market highperformance video card support vesa local bus mb ram anyone suggestionsideas diamond stealth pro local bus ...</td>\n",
       "    </tr>\n",
       "    <tr>\n",
       "      <th>2</th>\n",
       "      <td>From: hilmi-er@dsv.su.se (Hilmi Eren)\\nSubject: Re: ARMENIA SAYS IT COULD SHOOT DOWN TURKISH PLANES (Henrik)\\nLines: 95\\nNntp-Posting-Host: viktoria.dsv.su.se\\nReply-To: hilmi-er@dsv.su.se (Hilmi Eren)\\nOrganization: Dept. of Computer and Systems Sciences, Stockholm University\\n\\n\\n\\n\\n|&gt;The student of \"regional killings\" alias Davidian (not the Davidian religios sect) writes:\\n\\n\\n|&gt;Greater A...</td>\n",
       "      <td>hilmierdsvsuse hilmi eren subject armenia say could shoot turkish plane henrik line nntppostinghost viktoriadsvsuse replyto hilmierdsvsuse hilmi eren organization dept computer system science stockholm university student regional killing alias davidian davidian religios sect writes greater armenia would stretch karabakh black sea mediterranean use term greater armenia use care finally said dre...</td>\n",
       "    </tr>\n",
       "    <tr>\n",
       "      <th>3</th>\n",
       "      <td>From: guyd@austin.ibm.com (Guy Dawson)\\nSubject: Re: IDE vs SCSI, DMA and detach\\nOriginator: guyd@pal500.austin.ibm.com\\nOrganization: IBM Austin\\nLines: 60\\n\\n\\nIn article &lt;1993Apr19.034517.12820@julian.uwo.ca&gt;, wlsmith@valve.heart.rri.uwo.ca (Wayne Smith) writes:\\n&gt; In article &lt;RICHK.93Apr15075248@gozer.grebyn.com&gt; richk@grebyn.com (Richard Krehbiel) writes:\\n&gt; &gt;&gt;     Can anyone explain in ...</td>\n",
       "      <td>guydaustinibmcom guy dawson subject ide v scsi dma detach originator guydpalaustinibmcom organization ibm austin line article aprjulianuwoca wlsmithvalveheartrriuwoca wayne smith writes article richkaprgozergrebyncom richkgrebyncom richard krehbiel writes anyone explain fairly simple term get o might need scsi controler rather ide performance suffer much mb drive dont tape drive cdrom help wou...</td>\n",
       "    </tr>\n",
       "    <tr>\n",
       "      <th>4</th>\n",
       "      <td>From: Alexander Samuel McDiarmid &lt;am2o+@andrew.cmu.edu&gt;\\nSubject: driver ??\\nOrganization: Sophomore, Mechanical Engineering, Carnegie Mellon, Pittsburgh, PA\\nLines: 15\\nNNTP-Posting-Host: po4.andrew.cmu.edu\\n\\n \\n1)    I have an old Jasmine drive which I cannot use with my new system.\\n My understanding is that I have to upsate the driver with a more modern\\none in order to gain compatability...</td>\n",
       "      <td>alexander samuel mcdiarmid amoandrewcmuedu subject driver organization sophomore mechanical engineering carnegie mellon pittsburgh pa line nntppostinghost poandrewcmuedu old jasmine drive cannot use new system understanding upsate driver modern one order gain compatability system anyone know inexpensive program seen formatters buit idea work another ancient device one tape drive back utility f...</td>\n",
       "    </tr>\n",
       "  </tbody>\n",
       "</table>\n",
       "</div>"
      ],
      "text/plain": [
       "                                                                                                                                                                                                                                                                                                                                                                                                              text  \\\n",
       "0  From: Mamatha Devineni Ratnam <mr47+@andrew.cmu.edu>\\nSubject: Pens fans reactions\\nOrganization: Post Office, Carnegie Mellon, Pittsburgh, PA\\nLines: 12\\nNNTP-Posting-Host: po4.andrew.cmu.edu\\n\\n\\n\\nI am sure some bashers of Pens fans are pretty confused about the lack\\nof any kind of posts about the recent Pens massacre of the Devils. Actually,\\nI am  bit puzzled too and a bit relieved. Howe...   \n",
       "1  From: mblawson@midway.ecn.uoknor.edu (Matthew B Lawson)\\nSubject: Which high-performance VLB video card?\\nSummary: Seek recommendations for VLB video card\\nNntp-Posting-Host: midway.ecn.uoknor.edu\\nOrganization: Engineering Computer Network, University of Oklahoma, Norman, OK, USA\\nKeywords: orchid, stealth, vlb\\nLines: 21\\n\\n  My brother is in the market for a high-performance video card that...   \n",
       "2  From: hilmi-er@dsv.su.se (Hilmi Eren)\\nSubject: Re: ARMENIA SAYS IT COULD SHOOT DOWN TURKISH PLANES (Henrik)\\nLines: 95\\nNntp-Posting-Host: viktoria.dsv.su.se\\nReply-To: hilmi-er@dsv.su.se (Hilmi Eren)\\nOrganization: Dept. of Computer and Systems Sciences, Stockholm University\\n\\n\\n\\n\\n|>The student of \"regional killings\" alias Davidian (not the Davidian religios sect) writes:\\n\\n\\n|>Greater A...   \n",
       "3  From: guyd@austin.ibm.com (Guy Dawson)\\nSubject: Re: IDE vs SCSI, DMA and detach\\nOriginator: guyd@pal500.austin.ibm.com\\nOrganization: IBM Austin\\nLines: 60\\n\\n\\nIn article <1993Apr19.034517.12820@julian.uwo.ca>, wlsmith@valve.heart.rri.uwo.ca (Wayne Smith) writes:\\n> In article <RICHK.93Apr15075248@gozer.grebyn.com> richk@grebyn.com (Richard Krehbiel) writes:\\n> >>     Can anyone explain in ...   \n",
       "4  From: Alexander Samuel McDiarmid <am2o+@andrew.cmu.edu>\\nSubject: driver ??\\nOrganization: Sophomore, Mechanical Engineering, Carnegie Mellon, Pittsburgh, PA\\nLines: 15\\nNNTP-Posting-Host: po4.andrew.cmu.edu\\n\\n \\n1)    I have an old Jasmine drive which I cannot use with my new system.\\n My understanding is that I have to upsate the driver with a more modern\\none in order to gain compatability...   \n",
       "\n",
       "                                                                                                                                                                                                                                                                                                                                                                                                        clean_text  \n",
       "0  mamatha devineni ratnam mrandrewcmuedu subject pen fan reaction organization post office carnegie mellon pittsburgh pa line nntppostinghost poandrewcmuedu sure bashers pen fan pretty confused lack kind post recent pen massacre devil actually bit puzzled bit relieved however going put end nonpittsburghers relief bit praise pen man killing devil worse thought jagr showed much better regular seas...  \n",
       "1  mblawsonmidwayecnuoknoredu matthew b lawson subject highperformance vlb video card summary seek recommendation vlb video card nntppostinghost midwayecnuoknoredu organization engineering computer network university oklahoma norman ok usa keywords orchid stealth vlb line brother market highperformance video card support vesa local bus mb ram anyone suggestionsideas diamond stealth pro local bus ...  \n",
       "2  hilmierdsvsuse hilmi eren subject armenia say could shoot turkish plane henrik line nntppostinghost viktoriadsvsuse replyto hilmierdsvsuse hilmi eren organization dept computer system science stockholm university student regional killing alias davidian davidian religios sect writes greater armenia would stretch karabakh black sea mediterranean use term greater armenia use care finally said dre...  \n",
       "3  guydaustinibmcom guy dawson subject ide v scsi dma detach originator guydpalaustinibmcom organization ibm austin line article aprjulianuwoca wlsmithvalveheartrriuwoca wayne smith writes article richkaprgozergrebyncom richkgrebyncom richard krehbiel writes anyone explain fairly simple term get o might need scsi controler rather ide performance suffer much mb drive dont tape drive cdrom help wou...  \n",
       "4  alexander samuel mcdiarmid amoandrewcmuedu subject driver organization sophomore mechanical engineering carnegie mellon pittsburgh pa line nntppostinghost poandrewcmuedu old jasmine drive cannot use new system understanding upsate driver modern one order gain compatability system anyone know inexpensive program seen formatters buit idea work another ancient device one tape drive back utility f...  "
      ]
     },
     "metadata": {},
     "output_type": "display_data"
    }
   ],
   "source": [
    "import re\n",
    "from nltk.corpus import stopwords\n",
    "from nltk.stem import WordNetLemmatizer\n",
    "\n",
    "# Initialize the tools we need\n",
    "lemmatizer = WordNetLemmatizer()\n",
    "stop_words = set(stopwords.words('english'))\n",
    "\n",
    "# Define the effective preprocessing function\n",
    "def preprocess_text(text):\n",
    "    text = re.sub(r'[^a-zA-Z\\s]', '', text, re.I|re.A).lower().strip()\n",
    "    tokens = text.split()\n",
    "    lemmatized_tokens = [lemmatizer.lemmatize(word) for word in tokens if word not in stop_words]\n",
    "    return \" \".join(lemmatized_tokens)\n",
    "\n",
    "print(\"Applying preprocessing to all documents... (This may take a moment)\")\n",
    "# Apply the function to the 'text' column\n",
    "df['clean_text'] = df['text'].apply(preprocess_text)\n",
    "print(\"✅ Preprocessing complete.\")\n",
    "\n",
    "# Display a sample to verify the result\n",
    "print(\"\\n--- Comparing original vs. cleaned text ---\")\n",
    "pd.set_option('display.max_colwidth', 400) # Widen the column display\n",
    "display(df[['text', 'clean_text']].head())"
   ]
  },
  {
   "cell_type": "markdown",
   "id": "5a079326-253c-4ec0-8633-7ad06dacb54a",
   "metadata": {},
   "source": [
    "******Feature Engineering and Modeling******"
   ]
  },
  {
   "cell_type": "code",
   "execution_count": 9,
   "id": "3244c4e4-9098-4b0c-9d33-6696870fec29",
   "metadata": {},
   "outputs": [
    {
     "name": "stdout",
     "output_type": "stream",
     "text": [
      "Starting feature extraction with TF-IDF...\n",
      " Feature extraction complete.\n",
      "The shape of our feature matrix is: (18846, 249003)\n"
     ]
    }
   ],
   "source": [
    "\n",
    "from sklearn.feature_extraction.text import TfidfVectorizer\n",
    "\n",
    "print(\"Starting feature extraction with TF-IDF...\")\n",
    "\n",
    "# Initialize the vectorizer with parameters for better performance\n",
    "# ngram_range=(1, 2) captures single words and two-word phrases (e.g., \"hockey stick\")\n",
    "# min_df=3 ignores words that are too rare (appear in less than 3 documents)\n",
    "# max_df=0.9 ignores words that are too common (appear in more than 90% of documents)\n",
    "tfidf_vectorizer = TfidfVectorizer(ngram_range=(1, 2), min_df=3, max_df=0.9)\n",
    "\n",
    "# Create our features (X) and labels (y)\n",
    "X = tfidf_vectorizer.fit_transform(df['clean_text'])\n",
    "y = df['category_id']\n",
    "\n",
    "print(\" Feature extraction complete.\")\n",
    "print(f\"The shape of our feature matrix is: {X.shape}\")\n"
   ]
  },
  {
   "cell_type": "markdown",
   "id": "86d32f3a-c43d-4cdd-bc74-267feff9d197",
   "metadata": {},
   "source": [
    "*******Splitting Data for Training and Testing*******"
   ]
  },
  {
   "cell_type": "code",
   "execution_count": 11,
   "id": "42082180-694b-4d0f-bad4-4645f0dc1ae2",
   "metadata": {},
   "outputs": [
    {
     "name": "stdout",
     "output_type": "stream",
     "text": [
      "Splitting the data into training and testing sets (80/20 split)...\n",
      "✅ Data splitting complete.\n",
      "Training samples: 15076\n",
      "Testing samples: 3770\n"
     ]
    }
   ],
   "source": [
    "from sklearn.model_selection import train_test_split\n",
    "\n",
    "print(\"Splitting the data into training and testing sets (80/20 split)...\")\n",
    "\n",
    "X_train, X_test, y_train, y_test = train_test_split(\n",
    "    X, \n",
    "    y, \n",
    "    test_size=0.2, # Use 20% of the data for testing\n",
    "    random_state=42, # Ensures the split is the same every time\n",
    "    stratify=y # Ensures the category distribution is the same in train and test sets\n",
    ")\n",
    "\n",
    "print(\"✅ Data splitting complete.\")\n",
    "print(f\"Training samples: {X_train.shape[0]}\")\n",
    "print(f\"Testing samples: {X_test.shape[0]}\")"
   ]
  },
  {
   "cell_type": "markdown",
   "id": "c2ee6ee2-343e-460b-aca6-3ae7a3a1173e",
   "metadata": {},
   "source": [
    "****Traing the two models****\n"
   ]
  },
  {
   "cell_type": "code",
   "execution_count": 12,
   "id": "2fe5bfcf-835d-401d-9444-70a2c3df8466",
   "metadata": {},
   "outputs": [
    {
     "name": "stdout",
     "output_type": "stream",
     "text": [
      "Training the Tuned Logistic Regression model...\n",
      "✅ Tuned Logistic Regression model trained.\n",
      "\n",
      "Training the Tuned Linear SVM model...\n",
      "✅ Tuned Linear SVM model trained.\n"
     ]
    }
   ],
   "source": [
    "\n",
    "\n",
    "from sklearn.linear_model import LogisticRegression\n",
    "from sklearn.svm import LinearSVC\n",
    "\n",
    "# --- Train Model 1: Tuned Logistic Regression ---\n",
    "print(\"Training the Tuned Logistic Regression model...\")\n",
    "lr_model = LogisticRegression(random_state=42, max_iter=1000, C=10)\n",
    "lr_model.fit(X_train, y_train)\n",
    "print(\"✅ Tuned Logistic Regression model trained.\")\n",
    "\n",
    "# --- Train Model 2: Tuned Linear Support Vector Machine (SVC) ---\n",
    "print(\"\\nTraining the Tuned Linear SVM model...\")\n",
    "svm_model = LinearSVC(random_state=42, C=10)\n",
    "svm_model.fit(X_train, y_train)\n",
    "print(\"✅ Tuned Linear SVM model trained.\")"
   ]
  },
  {
   "cell_type": "markdown",
   "id": "f632d143-408b-4396-a77a-c46952dfb47b",
   "metadata": {},
   "source": [
    "****Model Evaluation****"
   ]
  },
  {
   "cell_type": "code",
   "execution_count": 13,
   "id": "3d80c131-0fe8-4c7f-a339-0314a315d75b",
   "metadata": {},
   "outputs": [
    {
     "name": "stdout",
     "output_type": "stream",
     "text": [
      "Making predictions on the test set...\n",
      "Predictions complete.\n"
     ]
    }
   ],
   "source": [
    "from sklearn.metrics import accuracy_score, classification_report, confusion_matrix\n",
    "\n",
    "print(\"Making predictions on the test set...\")\n",
    "\n",
    "# Use the Logistic Regression model to make predictions\n",
    "lr_predictions = lr_model.predict(X_test)\n",
    "\n",
    "# Use the Linear SVM model to make predictions\n",
    "svm_predictions = svm_model.predict(X_test)\n",
    "\n",
    "print(\"Predictions complete.\")"
   ]
  },
  {
   "cell_type": "markdown",
   "id": "1c27dfac-b20a-4da2-bbad-56345f9e4b3b",
   "metadata": {},
   "source": [
    "****Model 1****"
   ]
  },
  {
   "cell_type": "code",
   "execution_count": 14,
   "id": "2a520605-9e65-4798-99c4-db9800c6f1d0",
   "metadata": {},
   "outputs": [
    {
     "name": "stdout",
     "output_type": "stream",
     "text": [
      "--- Logistic Regression Model Evaluation ---\n",
      "Accuracy: 93.66%\n",
      "\n",
      "Classification Report:\n",
      "                          precision    recall  f1-score   support\n",
      "\n",
      "             alt.atheism       0.96      0.96      0.96       160\n",
      "           comp.graphics       0.86      0.92      0.89       195\n",
      " comp.os.ms-windows.misc       0.91      0.91      0.91       197\n",
      "comp.sys.ibm.pc.hardware       0.82      0.83      0.83       196\n",
      "   comp.sys.mac.hardware       0.90      0.91      0.90       193\n",
      "          comp.windows.x       0.93      0.93      0.93       198\n",
      "            misc.forsale       0.87      0.89      0.88       195\n",
      "               rec.autos       0.95      0.96      0.96       198\n",
      "         rec.motorcycles       0.99      0.95      0.97       199\n",
      "      rec.sport.baseball       0.98      0.97      0.97       199\n",
      "        rec.sport.hockey       0.99      0.97      0.98       200\n",
      "               sci.crypt       0.97      0.96      0.97       198\n",
      "         sci.electronics       0.88      0.89      0.89       197\n",
      "                 sci.med       0.95      0.96      0.95       198\n",
      "               sci.space       0.97      0.96      0.97       197\n",
      "  soc.religion.christian       0.95      0.97      0.96       199\n",
      "      talk.politics.guns       0.96      0.96      0.96       182\n",
      "   talk.politics.mideast       0.99      0.96      0.98       188\n",
      "      talk.politics.misc       0.97      0.96      0.96       155\n",
      "      talk.religion.misc       0.94      0.87      0.90       126\n",
      "\n",
      "                accuracy                           0.94      3770\n",
      "               macro avg       0.94      0.94      0.94      3770\n",
      "            weighted avg       0.94      0.94      0.94      3770\n",
      "\n"
     ]
    }
   ],
   "source": [
    "# --- Evaluate Model 1: Logistic Regression ---\n",
    "print(\"--- Logistic Regression Model Evaluation ---\")\n",
    "accuracy_lr = accuracy_score(y_test, lr_predictions)\n",
    "print(f\"Accuracy: {accuracy_lr * 100:.2f}%\")\n",
    "\n",
    "print(\"\\nClassification Report:\")\n",
    "print(classification_report(y_test, lr_predictions, target_names=newsgroups_data.target_names))"
   ]
  },
  {
   "cell_type": "markdown",
   "id": "64540780-a963-4030-93b1-d9907549cf3d",
   "metadata": {},
   "source": [
    "****Model 2****"
   ]
  },
  {
   "cell_type": "code",
   "execution_count": 15,
   "id": "1f5486a6-0d7a-4a0a-a1df-4ddf00066516",
   "metadata": {},
   "outputs": [
    {
     "name": "stdout",
     "output_type": "stream",
     "text": [
      "\n",
      "--- Linear SVM Model Evaluation ---\n",
      "Accuracy: 94.77%\n",
      "\n",
      "Classification Report:\n",
      "                          precision    recall  f1-score   support\n",
      "\n",
      "             alt.atheism       0.95      0.96      0.96       160\n",
      "           comp.graphics       0.90      0.92      0.91       195\n",
      " comp.os.ms-windows.misc       0.92      0.93      0.92       197\n",
      "comp.sys.ibm.pc.hardware       0.86      0.83      0.84       196\n",
      "   comp.sys.mac.hardware       0.92      0.93      0.93       193\n",
      "          comp.windows.x       0.95      0.95      0.95       198\n",
      "            misc.forsale       0.90      0.90      0.90       195\n",
      "               rec.autos       0.96      0.97      0.96       198\n",
      "         rec.motorcycles       0.98      0.97      0.98       199\n",
      "      rec.sport.baseball       0.98      0.97      0.98       199\n",
      "        rec.sport.hockey       0.98      0.98      0.98       200\n",
      "               sci.crypt       0.97      0.97      0.97       198\n",
      "         sci.electronics       0.92      0.90      0.91       197\n",
      "                 sci.med       0.96      0.99      0.98       198\n",
      "               sci.space       0.98      0.97      0.98       197\n",
      "  soc.religion.christian       0.96      0.97      0.97       199\n",
      "      talk.politics.guns       0.97      0.98      0.97       182\n",
      "   talk.politics.mideast       0.99      0.97      0.98       188\n",
      "      talk.politics.misc       0.98      0.95      0.97       155\n",
      "      talk.religion.misc       0.93      0.89      0.91       126\n",
      "\n",
      "                accuracy                           0.95      3770\n",
      "               macro avg       0.95      0.95      0.95      3770\n",
      "            weighted avg       0.95      0.95      0.95      3770\n",
      "\n"
     ]
    }
   ],
   "source": [
    "# --- Evaluate Model 2: Linear SVM ---\n",
    "print(\"\\n--- Linear SVM Model Evaluation ---\")\n",
    "accuracy_svm = accuracy_score(y_test, svm_predictions)\n",
    "print(f\"Accuracy: {accuracy_svm * 100:.2f}%\")\n",
    "\n",
    "print(\"\\nClassification Report:\")\n",
    "print(classification_report(y_test, svm_predictions, target_names=newsgroups_data.target_names))"
   ]
  },
  {
   "cell_type": "markdown",
   "id": "d5f880ba-b28f-4c1f-9e2a-84d92cc067f3",
   "metadata": {},
   "source": [
    "****Saving the Model****"
   ]
  },
  {
   "cell_type": "code",
   "execution_count": 16,
   "id": "2019feca-731b-4510-9ecc-e238dc962437",
   "metadata": {},
   "outputs": [
    {
     "name": "stdout",
     "output_type": "stream",
     "text": [
      "Champion Model (Linear SVM) and Vectorizer have been saved to your disk.\n",
      "Files created: 'document_classifier_svm_model.joblib' and 'tfidf_vectorizer.joblib'\n"
     ]
    }
   ],
   "source": [
    "import joblib\n",
    "\n",
    "# We are choosing our best model, the Linear SVM\n",
    "best_model = svm_model\n",
    "\n",
    "# Save the model to a file\n",
    "joblib.dump(best_model, 'document_classifier_svm_model.joblib')\n",
    "\n",
    "# Save the vectorizer to a file\n",
    "joblib.dump(tfidf_vectorizer, 'tfidf_vectorizer.joblib')\n",
    "\n",
    "print(f\"Champion Model (Linear SVM) and Vectorizer have been saved to your disk.\")\n",
    "print(\"Files created: 'document_classifier_svm_model.joblib' and 'tfidf_vectorizer.joblib'\")"
   ]
  },
  {
   "cell_type": "markdown",
   "id": "eff53ac2-ab78-424c-84f8-a080edc02f81",
   "metadata": {},
   "source": [
    "****Loading and Using Save Model****"
   ]
  },
  {
   "cell_type": "code",
   "execution_count": 17,
   "id": "6496f3ef-f943-4bc5-9a61-883ed1b9d8cb",
   "metadata": {},
   "outputs": [
    {
     "name": "stdout",
     "output_type": "stream",
     "text": [
      " Model and Vectorizer have been successfully loaded from disk.\n"
     ]
    }
   ],
   "source": [
    "# Load the saved model and vectorizer from the files\n",
    "loaded_model = joblib.load('document_classifier_svm_model.joblib')\n",
    "loaded_vectorizer = joblib.load('tfidf_vectorizer.joblib')\n",
    "\n",
    "# We also need the category names for our final output\n",
    "category_names = newsgroups_data.target_names\n",
    "\n",
    "print(\" Model and Vectorizer have been successfully loaded from disk.\")"
   ]
  },
  {
   "cell_type": "code",
   "execution_count": 18,
   "id": "437968be-fb66-4c33-a25f-5b4175747b01",
   "metadata": {},
   "outputs": [
    {
     "name": "stdout",
     "output_type": "stream",
     "text": [
      "Prediction function is defined and ready to use.\n"
     ]
    }
   ],
   "source": [
    "# Create a reusable function to make predictions on any new text\n",
    "def predict_category(text):\n",
    "    # Step 1: Clean the new text using our previously defined function\n",
    "    cleaned_text = preprocess_text(text)\n",
    "    \n",
    "    # Step 2: Transform the cleaned text into a numerical vector\n",
    "    text_tfidf = loaded_vectorizer.transform([cleaned_text])\n",
    "    \n",
    "    # Step 3: Use the loaded model to predict the category ID\n",
    "    predicted_category_id = loaded_model.predict(text_tfidf)[0]\n",
    "    \n",
    "    # Step 4: Return the name of the predicted category\n",
    "    return category_names[predicted_category_id]\n",
    "\n",
    "print( \"Prediction function is defined and ready to use.\")"
   ]
  },
  {
   "cell_type": "code",
   "execution_count": 19,
   "id": "7ea2fc45-95c9-4ed5-904f-6aab704c2a98",
   "metadata": {},
   "outputs": [
    {
     "name": "stdout",
     "output_type": "stream",
     "text": [
      "Text: 'My new Mac computer has a very powerful processor and a high-resolution screen.'\n",
      "Predicted Category: ---> 'comp.sys.mac.hardware'\n",
      "--------------------------------------------------\n",
      "Text: 'There are ongoing debates and conflicts in the Middle East.'\n",
      "Predicted Category: ---> 'talk.politics.mideast'\n",
      "--------------------------------------------------\n",
      "Text: 'The mission to Mars is exploring the possibility of extraterrestrial life.'\n",
      "Predicted Category: ---> 'sci.space'\n"
     ]
    }
   ],
   "source": [
    "# --- Let's test our final function! ---\n",
    "\n",
    "new_text_1 = \"My new Mac computer has a very powerful processor and a high-resolution screen.\"\n",
    "predicted_category_1 = predict_category(new_text_1)\n",
    "print(f\"Text: '{new_text_1}'\")\n",
    "print(f\"Predicted Category: ---> '{predicted_category_1}'\")\n",
    "\n",
    "print(\"-\" * 50)\n",
    "\n",
    "new_text_2 = \"There are ongoing debates and conflicts in the Middle East.\"\n",
    "predicted_category_2 = predict_category(new_text_2)\n",
    "print(f\"Text: '{new_text_2}'\")\n",
    "print(f\"Predicted Category: ---> '{predicted_category_2}'\")\n",
    "\n",
    "print(\"-\" * 50)\n",
    "\n",
    "new_text_3 = \"The mission to Mars is exploring the possibility of extraterrestrial life.\"\n",
    "predicted_category_3 = predict_category(new_text_3)\n",
    "print(f\"Text: '{new_text_3}'\")\n",
    "print(f\"Predicted Category: ---> '{predicted_category_3}'\")"
   ]
  },
  {
   "cell_type": "code",
   "execution_count": 22,
   "id": "db90db16-0597-4d86-8bea-2390364a85fe",
   "metadata": {},
   "outputs": [
    {
     "name": "stdout",
     "output_type": "stream",
     "text": [
      " Model successfully saved to the file: 'document_model.joblib'\n"
     ]
    }
   ],
   "source": [
    "import joblib\n",
    "\n",
    "# The model we want to save is our best-performing one (Linear SVM)\n",
    "best_model = svm_model\n",
    "\n",
    "# Save the model to the new file name\n",
    "joblib.dump(best_model, 'document_model.joblib')\n",
    "\n",
    "print(f\" Model successfully saved to the file: 'document_model.joblib'\")"
   ]
  },
  {
   "cell_type": "code",
   "execution_count": 23,
   "id": "e0907485-ba06-46ef-940c-2dace6d9cf56",
   "metadata": {},
   "outputs": [
    {
     "name": "stdout",
     "output_type": "stream",
     "text": [
      "File 'document_model.joblib' found. Trying to load it...\n",
      " Model loaded successfully!\n"
     ]
    }
   ],
   "source": [
    "import os\n",
    "import joblib\n",
    "\n",
    "# --- Define the filename we want to load ---\n",
    "model_filename = 'document_model.joblib'\n",
    "\n",
    "\n",
    "# --- Check if the file exists in the current folder ---\n",
    "if os.path.exists(model_filename):\n",
    "    print(f\"File '{model_filename}' found. Trying to load it...\")\n",
    "    try:\n",
    "        loaded_model = joblib.load(model_filename)\n",
    "        print(\" Model loaded successfully!\")\n",
    "        # You can now use the 'loaded_model' variable\n",
    "    except Exception as e:\n",
    "        print(f\" Error loading the file: {e}\")\n",
    "else:\n",
    "    print(f\"ERROR: The file '{model_filename}' was NOT found in the current directory.\")\n",
    "    print(f\"Please make sure the file is in this folder: {os.getcwd()}\")"
   ]
  },
  {
   "cell_type": "code",
   "execution_count": null,
   "id": "363852d4-96e4-4f74-9d21-a187b559ab4b",
   "metadata": {},
   "outputs": [],
   "source": []
  }
 ],
 "metadata": {
  "kernelspec": {
   "display_name": "Python 3 (ipykernel)",
   "language": "python",
   "name": "python3"
  },
  "language_info": {
   "codemirror_mode": {
    "name": "ipython",
    "version": 3
   },
   "file_extension": ".py",
   "mimetype": "text/x-python",
   "name": "python",
   "nbconvert_exporter": "python",
   "pygments_lexer": "ipython3",
   "version": "3.11.8"
  }
 },
 "nbformat": 4,
 "nbformat_minor": 5
}
